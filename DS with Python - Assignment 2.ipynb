{
 "cells": [
  {
   "cell_type": "markdown",
   "metadata": {},
   "source": [
    "# Assignment 2\n",
    "\n",
    "### Student Number: 19200098"
   ]
  },
  {
   "cell_type": "markdown",
   "metadata": {},
   "source": [
    "#### Importing Libraries\n",
    "\n",
    "Importing necessary libraries from the packages - Sklearn, BeautifulSoup, NLTK, Requests, Regular Expression (RE)"
   ]
  },
  {
   "cell_type": "code",
   "execution_count": 1,
   "metadata": {
    "scrolled": true
   },
   "outputs": [],
   "source": [
    "import requests\n",
    "from bs4 import BeautifulSoup\n",
    "import pandas as pd\n",
    "import nltk\n",
    "import re\n",
    "from nltk.corpus import stopwords\n",
    "from nltk.tokenize import RegexpTokenizer\n",
    "from sklearn.feature_extraction.text import TfidfVectorizer\n",
    "from sklearn.feature_extraction.text import CountVectorizer\n",
    "from sklearn.neighbors import KNeighborsClassifier\n",
    "from sklearn.model_selection import train_test_split\n",
    "from sklearn.metrics import confusion_matrix\n",
    "from sklearn.metrics import classification_report\n",
    "from sklearn import metrics\n",
    "from sklearn.metrics import accuracy_score\n",
    "\n",
    "import matplotlib.pyplot as plt\n",
    "\n",
    "\n",
    "from nltk.stem.porter import PorterStemmer\n",
    "from nltk.stem import WordNetLemmatizer\n",
    "from sklearn.naive_bayes import MultinomialNB\n",
    "\n",
    "import warnings\n",
    "warnings.filterwarnings(\"ignore\")"
   ]
  },
  {
   "cell_type": "markdown",
   "metadata": {},
   "source": [
    "#### Initializing the URL to extract the content from\n",
    "\n",
    "Inside the URL we have 7 different categories from where we need to extract the data. Setting of 3 categories of interest is done which are <b>Fashion, Gym and Hair Salons</b>."
   ]
  },
  {
   "cell_type": "code",
   "execution_count": 2,
   "metadata": {},
   "outputs": [],
   "source": [
    "#setting URL\n",
    "URL = \"http://mlg.ucd.ie/modules/yalp/\"\n",
    "\n",
    "#storing the content of the page\n",
    "page = requests.get(URL)\n",
    "\n",
    "#Fetching all category names\n",
    "soup = BeautifulSoup(page.content, 'html.parser')\n",
    "results = soup.find(id='all')"
   ]
  },
  {
   "cell_type": "code",
   "execution_count": 3,
   "metadata": {},
   "outputs": [
    {
     "name": "stdout",
     "output_type": "stream",
     "text": [
      "http://mlg.ucd.ie/modules/yalp/fashion_list.html\n",
      "http://mlg.ucd.ie/modules/yalp/gym_list.html\n",
      "http://mlg.ucd.ie/modules/yalp/hair_salons_list.html\n"
     ]
    }
   ],
   "source": [
    "categories = results.find_all('h4')\n",
    "\n",
    "#Fetching category names - Fashion, Gym and Hair Salons and printing their URLs\n",
    "for category in categories:\n",
    "    if category.find('a')['href'] == \"fashion_list.html\":\n",
    "        URL_fashion = URL + \"fashion_list.html\"\n",
    "    elif category.find('a')['href'] == \"gym_list.html\":\n",
    "        URL_gym = URL + \"gym_list.html\"\n",
    "    elif category.find('a')['href'] == \"hair_salons_list.html\":\n",
    "        URL_hair_salons = URL + \"hair_salons_list.html\"\n",
    "        \n",
    "print(URL_fashion)        \n",
    "print(URL_gym)\n",
    "print(URL_hair_salons)"
   ]
  },
  {
   "cell_type": "markdown",
   "metadata": {},
   "source": [
    "## Part 1: Extraction of 3 categories\n",
    "\n",
    "When the data is extracted the number of stars given by the review is stored. Now, as we need to classify each review in positive and negative to make it easy to understand what the review indicates, we would convert all the <u>ratings greater than or equal to 3 as positive or 1</u>, and all <u>ratings less than 3 as negative or 0.</u>"
   ]
  },
  {
   "cell_type": "markdown",
   "metadata": {},
   "source": [
    "### Data Extraction for the categories - Fashion, Gym and Hair Salons"
   ]
  },
  {
   "cell_type": "code",
   "execution_count": 4,
   "metadata": {
    "scrolled": true
   },
   "outputs": [],
   "source": [
    "#Scrapping the web page\n",
    "def category_scrapping(category_URL):\n",
    "    list_rating = []\n",
    "    list_review = []\n",
    "    page_category = requests.get(category_URL)\n",
    "    soup_category = BeautifulSoup(page_category.content, 'html.parser')\n",
    "\n",
    "    category_list = soup_category.find_all('h5')\n",
    "\n",
    "    for reviews in category_list:\n",
    "        URL_reviews = reviews.find('a')['href']\n",
    "        URL_reviews = URL + URL_reviews\n",
    "        page_reviews = requests.get(URL_reviews)\n",
    "        soup_reviews = BeautifulSoup(page_reviews.content, 'html.parser')\n",
    "        reviews_list = soup_reviews.find_all('div', class_='review')\n",
    "        for review in reviews_list:\n",
    "            rating = review.find('img', alt=True)\n",
    "            review_text = review.find('p', class_='review-text')\n",
    "            list_rating.append(int(rating['alt'].split('-')[0]))\n",
    "            list_review.append(review_text.text)\n",
    "\n",
    "    category_data = pd.DataFrame({'rating':list_rating, 'review':list_review})\n",
    "\n",
    "    category_data.loc[category_data['rating'] <3, 'rating'] = 0\n",
    "    category_data.loc[category_data['rating'] >=3, 'rating'] = 1\n",
    "\n",
    "    return category_data"
   ]
  },
  {
   "cell_type": "markdown",
   "metadata": {},
   "source": [
    "Extracting data from Fashion Page"
   ]
  },
  {
   "cell_type": "code",
   "execution_count": 5,
   "metadata": {},
   "outputs": [],
   "source": [
    "fashion_data = category_scrapping(URL_fashion)\n",
    "fashion_data.head()\n",
    "fashion_data.to_csv('fashion.csv')"
   ]
  },
  {
   "cell_type": "markdown",
   "metadata": {},
   "source": [
    "Extracting data from Gym Page"
   ]
  },
  {
   "cell_type": "code",
   "execution_count": 6,
   "metadata": {},
   "outputs": [],
   "source": [
    "gym_data = category_scrapping(URL_gym)\n",
    "gym_data.head()\n",
    "gym_data.to_csv('gym.csv')"
   ]
  },
  {
   "cell_type": "markdown",
   "metadata": {},
   "source": [
    "Extracting data from Hair Salons Page"
   ]
  },
  {
   "cell_type": "code",
   "execution_count": 7,
   "metadata": {},
   "outputs": [],
   "source": [
    "hair_salons_data = category_scrapping(URL_hair_salons)\n",
    "hair_salons_data.head()\n",
    "hair_salons_data.to_csv('hair_salon.csv')"
   ]
  },
  {
   "cell_type": "markdown",
   "metadata": {},
   "source": [
    "## Part 2: Processing upon each dataset"
   ]
  },
  {
   "cell_type": "markdown",
   "metadata": {},
   "source": [
    "### a. Pre-processing steps to create numeric representation\n",
    "\n",
    "The reviews in each category is in text format. To normalize text data we perform the following pre-processing steps as in text analytics:\n",
    "* Tokenizing\n",
    "* Lowering case\n",
    "* Stopwords removal\n",
    "* Stemming\n",
    "* Lemmatization"
   ]
  },
  {
   "cell_type": "code",
   "execution_count": 8,
   "metadata": {
    "scrolled": false
   },
   "outputs": [],
   "source": [
    "#Normalization of Data\n",
    "def data_normalization(data):\n",
    "    \n",
    "    #splitting into tokens using regex\n",
    "    tokens=[]\n",
    "    tokenizer = RegexpTokenizer(r'\\w+')\n",
    "    for v in data['review']:\n",
    "        v = re.sub(r\"[0-9]+\",\"\",v)\n",
    "        tokens.append(tokenizer.tokenize(v))\n",
    "\n",
    "    #convert tokens into lower case\n",
    "    tokens_lowercase=[]\n",
    "    for t in tokens:\n",
    "        tokens_lowercase.append(list(w.lower() for w in t))\n",
    "\n",
    "    #remove stop words\n",
    "    stop_words = list(stopwords.words('english'))\n",
    "    normalized_tokens=[]\n",
    "    for t in tokens_lowercase:\n",
    "        temp = set(t) - set(stop_words)\n",
    "        normalized_tokens.append(list(temp))\n",
    "    \n",
    "    #stemming words\n",
    "    stemmer = PorterStemmer()\n",
    "    for tokens in normalized_tokens:\n",
    "        for w in tokens:\n",
    "            w = stemmer.stem(w)\n",
    "        \n",
    "    #lemmatizing words\n",
    "    lemmatizer = WordNetLemmatizer()\n",
    "    for tokens in normalized_tokens:\n",
    "        for w in tokens:\n",
    "            w = lemmatizer.lemmatize(w)\n",
    "        \n",
    "    #joining words to make string\n",
    "    normalized_words = []\n",
    "    for words in normalized_tokens:\n",
    "        normalized_words.append(' '.join(words))\n",
    "\n",
    "    data['review'] = normalized_words"
   ]
  },
  {
   "cell_type": "markdown",
   "metadata": {},
   "source": [
    "Normalizing data from Fashion Category"
   ]
  },
  {
   "cell_type": "code",
   "execution_count": 9,
   "metadata": {},
   "outputs": [
    {
     "data": {
      "text/html": [
       "<div>\n",
       "<style scoped>\n",
       "    .dataframe tbody tr th:only-of-type {\n",
       "        vertical-align: middle;\n",
       "    }\n",
       "\n",
       "    .dataframe tbody tr th {\n",
       "        vertical-align: top;\n",
       "    }\n",
       "\n",
       "    .dataframe thead th {\n",
       "        text-align: right;\n",
       "    }\n",
       "</style>\n",
       "<table border=\"1\" class=\"dataframe\">\n",
       "  <thead>\n",
       "    <tr style=\"text-align: right;\">\n",
       "      <th></th>\n",
       "      <th>rating</th>\n",
       "      <th>review</th>\n",
       "    </tr>\n",
       "  </thead>\n",
       "  <tbody>\n",
       "    <tr>\n",
       "      <td>0</td>\n",
       "      <td>1</td>\n",
       "      <td>police look mas looking emt military come gear...</td>\n",
       "    </tr>\n",
       "    <tr>\n",
       "      <td>1</td>\n",
       "      <td>0</td>\n",
       "      <td>cashier things gladly walked something dressed...</td>\n",
       "    </tr>\n",
       "    <tr>\n",
       "      <td>2</td>\n",
       "      <td>1</td>\n",
       "      <td>help able quickly another store find super sta...</td>\n",
       "    </tr>\n",
       "    <tr>\n",
       "      <td>3</td>\n",
       "      <td>1</td>\n",
       "      <td>back walk employees buying products go said vi...</td>\n",
       "    </tr>\n",
       "    <tr>\n",
       "      <td>4</td>\n",
       "      <td>1</td>\n",
       "      <td>employees place time closing went great knowle...</td>\n",
       "    </tr>\n",
       "  </tbody>\n",
       "</table>\n",
       "</div>"
      ],
      "text/plain": [
       "   rating                                             review\n",
       "0       1  police look mas looking emt military come gear...\n",
       "1       0  cashier things gladly walked something dressed...\n",
       "2       1  help able quickly another store find super sta...\n",
       "3       1  back walk employees buying products go said vi...\n",
       "4       1  employees place time closing went great knowle..."
      ]
     },
     "execution_count": 9,
     "metadata": {},
     "output_type": "execute_result"
    }
   ],
   "source": [
    "data_normalization(fashion_data)\n",
    "fashion_data.head()"
   ]
  },
  {
   "cell_type": "markdown",
   "metadata": {},
   "source": [
    "Normalizing data from Gym Category"
   ]
  },
  {
   "cell_type": "code",
   "execution_count": 10,
   "metadata": {},
   "outputs": [
    {
     "data": {
      "text/html": [
       "<div>\n",
       "<style scoped>\n",
       "    .dataframe tbody tr th:only-of-type {\n",
       "        vertical-align: middle;\n",
       "    }\n",
       "\n",
       "    .dataframe tbody tr th {\n",
       "        vertical-align: top;\n",
       "    }\n",
       "\n",
       "    .dataframe thead th {\n",
       "        text-align: right;\n",
       "    }\n",
       "</style>\n",
       "<table border=\"1\" class=\"dataframe\">\n",
       "  <thead>\n",
       "    <tr style=\"text-align: right;\">\n",
       "      <th></th>\n",
       "      <th>rating</th>\n",
       "      <th>review</th>\n",
       "    </tr>\n",
       "  </thead>\n",
       "  <tbody>\n",
       "    <tr>\n",
       "      <td>0</td>\n",
       "      <td>1</td>\n",
       "      <td>nothing genuinely real many training gyms styl...</td>\n",
       "    </tr>\n",
       "    <tr>\n",
       "      <td>1</td>\n",
       "      <td>0</td>\n",
       "      <td>drills company trained us trainers clients sho...</td>\n",
       "    </tr>\n",
       "    <tr>\n",
       "      <td>2</td>\n",
       "      <td>0</td>\n",
       "      <td>phone came timed certain went style happened w...</td>\n",
       "    </tr>\n",
       "    <tr>\n",
       "      <td>3</td>\n",
       "      <td>1</td>\n",
       "      <td>return fall types challenging w people right t...</td>\n",
       "    </tr>\n",
       "    <tr>\n",
       "      <td>4</td>\n",
       "      <td>1</td>\n",
       "      <td>sports sign best wrap actually conditioning pr...</td>\n",
       "    </tr>\n",
       "  </tbody>\n",
       "</table>\n",
       "</div>"
      ],
      "text/plain": [
       "   rating                                             review\n",
       "0       1  nothing genuinely real many training gyms styl...\n",
       "1       0  drills company trained us trainers clients sho...\n",
       "2       0  phone came timed certain went style happened w...\n",
       "3       1  return fall types challenging w people right t...\n",
       "4       1  sports sign best wrap actually conditioning pr..."
      ]
     },
     "execution_count": 10,
     "metadata": {},
     "output_type": "execute_result"
    }
   ],
   "source": [
    "data_normalization(gym_data)\n",
    "gym_data.head()"
   ]
  },
  {
   "cell_type": "markdown",
   "metadata": {},
   "source": [
    "Normalizing data from Hair Salons Category"
   ]
  },
  {
   "cell_type": "code",
   "execution_count": 11,
   "metadata": {},
   "outputs": [
    {
     "data": {
      "text/html": [
       "<div>\n",
       "<style scoped>\n",
       "    .dataframe tbody tr th:only-of-type {\n",
       "        vertical-align: middle;\n",
       "    }\n",
       "\n",
       "    .dataframe tbody tr th {\n",
       "        vertical-align: top;\n",
       "    }\n",
       "\n",
       "    .dataframe thead th {\n",
       "        text-align: right;\n",
       "    }\n",
       "</style>\n",
       "<table border=\"1\" class=\"dataframe\">\n",
       "  <thead>\n",
       "    <tr style=\"text-align: right;\">\n",
       "      <th></th>\n",
       "      <th>rating</th>\n",
       "      <th>review</th>\n",
       "    </tr>\n",
       "  </thead>\n",
       "  <tbody>\n",
       "    <tr>\n",
       "      <td>0</td>\n",
       "      <td>1</td>\n",
       "      <td>prices amazing best honestly remember happier ...</td>\n",
       "    </tr>\n",
       "    <tr>\n",
       "      <td>1</td>\n",
       "      <td>1</td>\n",
       "      <td>coming often exactly great clean wanted haircu...</td>\n",
       "    </tr>\n",
       "    <tr>\n",
       "      <td>2</td>\n",
       "      <td>0</td>\n",
       "      <td>back nothing said reception game walked cuttin...</td>\n",
       "    </tr>\n",
       "    <tr>\n",
       "      <td>3</td>\n",
       "      <td>0</td>\n",
       "      <td>saturday came people search definitely showed ...</td>\n",
       "    </tr>\n",
       "    <tr>\n",
       "      <td>4</td>\n",
       "      <td>1</td>\n",
       "      <td>back beat shape fuss salon v great price hairc...</td>\n",
       "    </tr>\n",
       "  </tbody>\n",
       "</table>\n",
       "</div>"
      ],
      "text/plain": [
       "   rating                                             review\n",
       "0       1  prices amazing best honestly remember happier ...\n",
       "1       1  coming often exactly great clean wanted haircu...\n",
       "2       0  back nothing said reception game walked cuttin...\n",
       "3       0  saturday came people search definitely showed ...\n",
       "4       1  back beat shape fuss salon v great price hairc..."
      ]
     },
     "execution_count": 11,
     "metadata": {},
     "output_type": "execute_result"
    }
   ],
   "source": [
    "data_normalization(hair_salons_data)\n",
    "hair_salons_data.head()"
   ]
  },
  {
   "cell_type": "markdown",
   "metadata": {},
   "source": [
    "Combining data from all categories together"
   ]
  },
  {
   "cell_type": "code",
   "execution_count": 12,
   "metadata": {},
   "outputs": [
    {
     "name": "stdout",
     "output_type": "stream",
     "text": [
      "Size of individual categories\n",
      "(2000, 2)\n",
      "(2000, 2)\n",
      "(2000, 2)\n",
      "Size of all categories when combined into single dataset\n",
      "(6000, 2)\n"
     ]
    }
   ],
   "source": [
    "all_categories = pd.DataFrame()\n",
    "\n",
    "print('Size of individual categories')\n",
    "print(fashion_data.shape)\n",
    "print(gym_data.shape)\n",
    "print(hair_salons_data.shape)\n",
    "\n",
    "all_categories = all_categories.append(fashion_data, ignore_index=True)\n",
    "all_categories = all_categories.append(gym_data, ignore_index=True)\n",
    "all_categories = all_categories.append(hair_salons_data, ignore_index=True)\n",
    "\n",
    "print('Size of all categories when combined into single dataset')\n",
    "print(all_categories.shape)"
   ]
  },
  {
   "cell_type": "markdown",
   "metadata": {},
   "source": [
    "### b. Classification model to distinguish between \"positive\" and \"negative\" reviews\n",
    "\n",
    "I have chosen <b>Naive Bayes</b> classifier to distinguish between the rating labels of the dataset. For this purpose, the dataset has to be <u>divided into training and test data</u>. The model would be trained on the basis of training data and will be tested on the test data."
   ]
  },
  {
   "cell_type": "markdown",
   "metadata": {},
   "source": [
    "Split data into training and test format"
   ]
  },
  {
   "cell_type": "code",
   "execution_count": 13,
   "metadata": {
    "scrolled": true
   },
   "outputs": [],
   "source": [
    "# individual category data divided into training and test set\n",
    "fashion_data_x_train, fashion_data_x_test, fashion_data_y_train, fashion_data_y_test = train_test_split(fashion_data['review'], fashion_data['rating'], test_size=0.33, random_state=42)\n",
    "gym_data_x_train, gym_data_x_test, gym_data_y_train, gym_data_y_test = train_test_split(gym_data['review'], gym_data['rating'], test_size=0.33, random_state=42)\n",
    "hair_salons_data_x_train, hair_salons_data_x_test, hair_salons_data_y_train, hair_salons_data_y_test = train_test_split(hair_salons_data['review'], hair_salons_data['rating'], test_size=0.33, random_state=42)"
   ]
  },
  {
   "cell_type": "markdown",
   "metadata": {},
   "source": [
    "<b>Vectorizing the x-train and x-test data</b>\n",
    "\n",
    "The tfidf verctorizer converts the raw documents into Tf-Idf features, which would further help us predict and evaluate the model based on the class label of the dataset."
   ]
  },
  {
   "cell_type": "code",
   "execution_count": 14,
   "metadata": {},
   "outputs": [],
   "source": [
    "#creating object of tfidf vectorizer\n",
    "vectorizer = TfidfVectorizer()\n",
    "\n",
    "#fitting and transforming all category data individually\n",
    "\n",
    "fashion_data_x_train_vectorized = vectorizer.fit_transform(fashion_data_x_train)\n",
    "fashion_data_x_test_vectorized = vectorizer.transform(fashion_data_x_test)\n",
    "\n",
    "gym_data_x_train_vectorized = vectorizer.fit_transform(gym_data_x_train)\n",
    "gym_data_x_test_vectorized = vectorizer.transform(gym_data_x_test)\n",
    "\n",
    "hair_salons_data_x_train_vectorized = vectorizer.fit_transform(hair_salons_data_x_train)\n",
    "hair_salons_data_x_test_vectorized = vectorizer.transform(hair_salons_data_x_test)"
   ]
  },
  {
   "cell_type": "markdown",
   "metadata": {},
   "source": [
    "Build the model <br>\n",
    "-The <b>Naive Bayes</b> model is built on the basis of provided values of training data"
   ]
  },
  {
   "cell_type": "code",
   "execution_count": 15,
   "metadata": {},
   "outputs": [],
   "source": [
    "def build_naive_bayes(category_data_x_train, category_data_y_train):\n",
    "    model = MultinomialNB()\n",
    "    model.fit(category_data_x_train, category_data_y_train)\n",
    "    return model"
   ]
  },
  {
   "cell_type": "code",
   "execution_count": 16,
   "metadata": {},
   "outputs": [],
   "source": [
    "#Each category training data is passed to built Naive Bayes model and predictions are made\n",
    "\n",
    "fashion_data_model = build_naive_bayes(fashion_data_x_train_vectorized, fashion_data_y_train)\n",
    "fashion_data_predicted_value = fashion_data_model.predict(fashion_data_x_test_vectorized)\n",
    "\n",
    "gym_data_model = build_naive_bayes(gym_data_x_train_vectorized, gym_data_y_train)\n",
    "gym_data_predicted_value = gym_data_model.predict(gym_data_x_test_vectorized)\n",
    "\n",
    "hair_salons_data_model = build_naive_bayes(hair_salons_data_x_train_vectorized, hair_salons_data_y_train)\n",
    "hair_salons_data_predicted_value = hair_salons_data_model.predict(hair_salons_data_x_test_vectorized)"
   ]
  },
  {
   "cell_type": "markdown",
   "metadata": {},
   "source": [
    "### c. Predictions of the classification model using an appropriate evaluation strategy\n",
    "\n",
    "The evaluation is performed for each category of data individually based on <b>confusion matrix and classification report</b>, which gives measures for each as follows:"
   ]
  },
  {
   "cell_type": "code",
   "execution_count": 17,
   "metadata": {},
   "outputs": [],
   "source": [
    "accuracy_values = pd.DataFrame(index=['Fashion', 'Gym', 'Hair Salon'], columns=['Fashion', 'Gym', 'Hair Salon'])"
   ]
  },
  {
   "cell_type": "code",
   "execution_count": 18,
   "metadata": {},
   "outputs": [],
   "source": [
    "#evaluation of each category data based on predicted value and test data\n",
    "def model_evaluation(predicted_value, true_value, train_category, test_category):\n",
    "    print(confusion_matrix(predicted_value, true_value))\n",
    "    print(classification_report(predicted_value, true_value))\n",
    "    accuracy_values[train_category][test_category] = accuracy_score(predicted_value, true_value)"
   ]
  },
  {
   "cell_type": "code",
   "execution_count": 19,
   "metadata": {
    "scrolled": false
   },
   "outputs": [
    {
     "name": "stdout",
     "output_type": "stream",
     "text": [
      "-------------------Evaluation of Categories-------------------\n",
      "\n",
      "_______________Fashion Data_______________\n",
      "[[ 58   0]\n",
      " [187 415]]\n",
      "              precision    recall  f1-score   support\n",
      "\n",
      "           0       0.24      1.00      0.38        58\n",
      "           1       1.00      0.69      0.82       602\n",
      "\n",
      "    accuracy                           0.72       660\n",
      "   macro avg       0.62      0.84      0.60       660\n",
      "weighted avg       0.93      0.72      0.78       660\n",
      "\n",
      "_______________Gym Data_______________\n",
      "[[ 83   1]\n",
      " [106 470]]\n",
      "              precision    recall  f1-score   support\n",
      "\n",
      "           0       0.44      0.99      0.61        84\n",
      "           1       1.00      0.82      0.90       576\n",
      "\n",
      "    accuracy                           0.84       660\n",
      "   macro avg       0.72      0.90      0.75       660\n",
      "weighted avg       0.93      0.84      0.86       660\n",
      "\n",
      "_______________Hair Salons Data_______________\n",
      "[[  0   0]\n",
      " [142 518]]\n",
      "              precision    recall  f1-score   support\n",
      "\n",
      "           0       0.00      0.00      0.00         0\n",
      "           1       1.00      0.78      0.88       660\n",
      "\n",
      "    accuracy                           0.78       660\n",
      "   macro avg       0.50      0.39      0.44       660\n",
      "weighted avg       1.00      0.78      0.88       660\n",
      "\n"
     ]
    }
   ],
   "source": [
    "print(\"-------------------Evaluation of Categories-------------------\")\n",
    "print()\n",
    "print(\"_______________Fashion Data_______________\")\n",
    "model_evaluation(fashion_data_predicted_value, fashion_data_y_test, 'Fashion', 'Fashion')\n",
    "print(\"_______________Gym Data_______________\")\n",
    "model_evaluation(gym_data_predicted_value, gym_data_y_test, 'Gym', 'Gym')\n",
    "print(\"_______________Hair Salons Data_______________\")\n",
    "model_evaluation(hair_salons_data_predicted_value, hair_salons_data_y_test, 'Hair Salon', 'Hair Salon')"
   ]
  },
  {
   "cell_type": "markdown",
   "metadata": {},
   "source": [
    "## Part 3: Performance of each of your three classification models when applied to data from the other two selected categories"
   ]
  },
  {
   "cell_type": "markdown",
   "metadata": {},
   "source": [
    "From the combined dataset, respective data are picked to assign as training and test data for that category."
   ]
  },
  {
   "cell_type": "code",
   "execution_count": 20,
   "metadata": {
    "scrolled": true
   },
   "outputs": [],
   "source": [
    "# all category data\n",
    "fashion_data_x_train, fashion_data_x_test, fashion_data_y_train, fashion_data_y_test = train_test_split(all_categories['review'][:2000], all_categories['rating'][:2000], test_size=0.33, random_state=42)\n",
    "gym_data_x_train, gym_data_x_test, gym_data_y_train, gym_data_y_test = train_test_split(all_categories['review'][2001:4000], all_categories['rating'][2001:4000], test_size=0.33, random_state=42)\n",
    "hair_salons_data_x_train, hair_salons_data_x_test, hair_salons_data_y_train, hair_salons_data_y_test = train_test_split(all_categories['review'][4001:6000], all_categories['rating'][4001:6000], test_size=0.33, random_state=42)"
   ]
  },
  {
   "cell_type": "markdown",
   "metadata": {},
   "source": [
    "Vectorizing the training data"
   ]
  },
  {
   "cell_type": "code",
   "execution_count": 21,
   "metadata": {},
   "outputs": [],
   "source": [
    "#initializing tfidf vectorizer object\n",
    "vectorizer = TfidfVectorizer()\n",
    "\n",
    "#Vectorizing the train data for each category\n",
    "\n",
    "fashion_data_x_train_vectorized = vectorizer.fit_transform(fashion_data_x_train)\n",
    "fashion_data_x_test_vectorized = vectorizer.transform(fashion_data_x_test)\n",
    "\n",
    "gym_data_x_train_vectorized = vectorizer.fit_transform(gym_data_x_train)\n",
    "gym_data_x_test_vectorized = vectorizer.transform(gym_data_x_test)\n",
    "\n",
    "hair_salons_data_x_train_vectorized = vectorizer.fit_transform(hair_salons_data_x_train)\n",
    "hair_salons_data_x_test_vectorized = vectorizer.transform(hair_salons_data_x_test)"
   ]
  },
  {
   "cell_type": "markdown",
   "metadata": {},
   "source": [
    "Building Naive Bayes model for each category training data and predicting using test data"
   ]
  },
  {
   "cell_type": "code",
   "execution_count": 22,
   "metadata": {},
   "outputs": [],
   "source": [
    "#building the model and predicting using test data\n",
    "\n",
    "fashion_data_model = build_naive_bayes(fashion_data_x_train_vectorized, fashion_data_y_train)\n",
    "fashion_data_predicted_value = fashion_data_model.predict(fashion_data_x_test_vectorized)\n",
    "\n",
    "gym_data_model = build_naive_bayes(gym_data_x_train_vectorized, gym_data_y_train)\n",
    "gym_data_predicted_value = gym_data_model.predict(gym_data_x_test_vectorized)\n",
    "\n",
    "hair_salons_data_model = build_naive_bayes(hair_salons_data_x_train_vectorized, hair_salons_data_y_train)\n",
    "hair_salons_data_predicted_value = hair_salons_data_model.predict(hair_salons_data_x_test_vectorized)"
   ]
  },
  {
   "cell_type": "markdown",
   "metadata": {},
   "source": [
    "### a. Train a classification model on the data from “Category A”. Evaluate its performance on data from “Category B” and data from “Category C”\n",
    "<b> Category A - Fashion </b> <br>\n",
    "<b> Category B - Gym </b> <br>\n",
    "<b> Category C - Hair Salon </b>"
   ]
  },
  {
   "cell_type": "code",
   "execution_count": 23,
   "metadata": {
    "scrolled": false
   },
   "outputs": [
    {
     "name": "stdout",
     "output_type": "stream",
     "text": [
      "-------------------Evaluation of Categories-------------------\n",
      "\n",
      "_______________Fashion Data against Gym Data_______________\n",
      "[[ 21  37]\n",
      " [161 441]]\n",
      "              precision    recall  f1-score   support\n",
      "\n",
      "           0       0.12      0.36      0.18        58\n",
      "           1       0.92      0.73      0.82       602\n",
      "\n",
      "    accuracy                           0.70       660\n",
      "   macro avg       0.52      0.55      0.50       660\n",
      "weighted avg       0.85      0.70      0.76       660\n",
      "\n",
      "_______________Fashion Data against Hair Salons Data_______________\n",
      "[[  9  49]\n",
      " [124 478]]\n",
      "              precision    recall  f1-score   support\n",
      "\n",
      "           0       0.07      0.16      0.09        58\n",
      "           1       0.91      0.79      0.85       602\n",
      "\n",
      "    accuracy                           0.74       660\n",
      "   macro avg       0.49      0.47      0.47       660\n",
      "weighted avg       0.83      0.74      0.78       660\n",
      "\n"
     ]
    }
   ],
   "source": [
    "print(\"-------------------Evaluation of Categories-------------------\")\n",
    "print()\n",
    "print(\"_______________Fashion Data against Gym Data_______________\")\n",
    "model_evaluation(fashion_data_predicted_value, gym_data_y_test, 'Fashion', 'Gym')\n",
    "print(\"_______________Fashion Data against Hair Salons Data_______________\")\n",
    "model_evaluation(fashion_data_predicted_value, hair_salons_data_y_test, 'Fashion', 'Hair Salon')"
   ]
  },
  {
   "cell_type": "markdown",
   "metadata": {},
   "source": [
    "### b. Train a classification model on the data from “Category B”. Evaluate its performance on data from “Category A” and data from “Category C”.\n",
    "<b> Category A - Fashion </b> <br>\n",
    "<b> Category B - Gym </b> <br>\n",
    "<b> Category C - Hair Salon </b>"
   ]
  },
  {
   "cell_type": "code",
   "execution_count": 24,
   "metadata": {
    "scrolled": false
   },
   "outputs": [
    {
     "name": "stdout",
     "output_type": "stream",
     "text": [
      "-------------------Evaluation of Categories-------------------\n",
      "\n",
      "_______________Gym Data against Fashion Data_______________\n",
      "[[ 27  47]\n",
      " [218 368]]\n",
      "              precision    recall  f1-score   support\n",
      "\n",
      "           0       0.11      0.36      0.17        74\n",
      "           1       0.89      0.63      0.74       586\n",
      "\n",
      "    accuracy                           0.60       660\n",
      "   macro avg       0.50      0.50      0.45       660\n",
      "weighted avg       0.80      0.60      0.67       660\n",
      "\n",
      "_______________Gym Data against Hair Salons Data_______________\n",
      "[[ 18  56]\n",
      " [115 471]]\n",
      "              precision    recall  f1-score   support\n",
      "\n",
      "           0       0.14      0.24      0.17        74\n",
      "           1       0.89      0.80      0.85       586\n",
      "\n",
      "    accuracy                           0.74       660\n",
      "   macro avg       0.51      0.52      0.51       660\n",
      "weighted avg       0.81      0.74      0.77       660\n",
      "\n"
     ]
    }
   ],
   "source": [
    "print(\"-------------------Evaluation of Categories-------------------\")\n",
    "print()\n",
    "print(\"_______________Gym Data against Fashion Data_______________\")\n",
    "model_evaluation(gym_data_predicted_value, fashion_data_y_test, 'Gym', 'Fashion')\n",
    "print(\"_______________Gym Data against Hair Salons Data_______________\")\n",
    "model_evaluation(gym_data_predicted_value, hair_salons_data_y_test, 'Gym', 'Hair Salon')"
   ]
  },
  {
   "cell_type": "markdown",
   "metadata": {},
   "source": [
    "### c. Train a classification model on the data from “Category C”. Evaluate its performance on data from “Category A” and data from “Category B”.\n",
    "<b> Category A - Fashion </b> <br>\n",
    "<b> Category B - Gym </b> <br>\n",
    "<b> Category C - Hair Salon </b>"
   ]
  },
  {
   "cell_type": "code",
   "execution_count": 25,
   "metadata": {
    "scrolled": false
   },
   "outputs": [
    {
     "name": "stdout",
     "output_type": "stream",
     "text": [
      "-------------------Evaluation of Categories-------------------\n",
      "\n",
      "_______________Hair Salons Data against Fashion Data_______________\n",
      "[[  2   1]\n",
      " [243 414]]\n",
      "              precision    recall  f1-score   support\n",
      "\n",
      "           0       0.01      0.67      0.02         3\n",
      "           1       1.00      0.63      0.77       657\n",
      "\n",
      "    accuracy                           0.63       660\n",
      "   macro avg       0.50      0.65      0.39       660\n",
      "weighted avg       0.99      0.63      0.77       660\n",
      "\n",
      "_______________Hair Salons Data against Gym Data_______________\n",
      "[[  2   1]\n",
      " [180 477]]\n",
      "              precision    recall  f1-score   support\n",
      "\n",
      "           0       0.01      0.67      0.02         3\n",
      "           1       1.00      0.73      0.84       657\n",
      "\n",
      "    accuracy                           0.73       660\n",
      "   macro avg       0.50      0.70      0.43       660\n",
      "weighted avg       0.99      0.73      0.84       660\n",
      "\n"
     ]
    }
   ],
   "source": [
    "print(\"-------------------Evaluation of Categories-------------------\")\n",
    "print()\n",
    "print(\"_______________Hair Salons Data against Fashion Data_______________\")\n",
    "model_evaluation(hair_salons_data_predicted_value, fashion_data_y_test, 'Hair Salon', 'Fashion')\n",
    "print(\"_______________Hair Salons Data against Gym Data_______________\")\n",
    "model_evaluation(hair_salons_data_predicted_value, gym_data_y_test, 'Hair Salon', 'Gym')"
   ]
  },
  {
   "cell_type": "markdown",
   "metadata": {},
   "source": [
    "Accuracy Values of each category against other categories"
   ]
  },
  {
   "cell_type": "code",
   "execution_count": 26,
   "metadata": {},
   "outputs": [
    {
     "data": {
      "text/html": [
       "<div>\n",
       "<style scoped>\n",
       "    .dataframe tbody tr th:only-of-type {\n",
       "        vertical-align: middle;\n",
       "    }\n",
       "\n",
       "    .dataframe tbody tr th {\n",
       "        vertical-align: top;\n",
       "    }\n",
       "\n",
       "    .dataframe thead th {\n",
       "        text-align: right;\n",
       "    }\n",
       "</style>\n",
       "<table border=\"1\" class=\"dataframe\">\n",
       "  <thead>\n",
       "    <tr style=\"text-align: right;\">\n",
       "      <th></th>\n",
       "      <th>Fashion</th>\n",
       "      <th>Gym</th>\n",
       "      <th>Hair Salon</th>\n",
       "    </tr>\n",
       "  </thead>\n",
       "  <tbody>\n",
       "    <tr>\n",
       "      <td>Fashion</td>\n",
       "      <td>0.716667</td>\n",
       "      <td>0.598485</td>\n",
       "      <td>0.630303</td>\n",
       "    </tr>\n",
       "    <tr>\n",
       "      <td>Gym</td>\n",
       "      <td>0.7</td>\n",
       "      <td>0.837879</td>\n",
       "      <td>0.725758</td>\n",
       "    </tr>\n",
       "    <tr>\n",
       "      <td>Hair Salon</td>\n",
       "      <td>0.737879</td>\n",
       "      <td>0.740909</td>\n",
       "      <td>0.784848</td>\n",
       "    </tr>\n",
       "  </tbody>\n",
       "</table>\n",
       "</div>"
      ],
      "text/plain": [
       "             Fashion       Gym Hair Salon\n",
       "Fashion     0.716667  0.598485   0.630303\n",
       "Gym              0.7  0.837879   0.725758\n",
       "Hair Salon  0.737879  0.740909   0.784848"
      ]
     },
     "execution_count": 26,
     "metadata": {},
     "output_type": "execute_result"
    }
   ],
   "source": [
    "accuracy_values"
   ]
  },
  {
   "cell_type": "markdown",
   "metadata": {},
   "source": [
    "### Observations:\n",
    "\n",
    "<b>Evaluations</b>\n",
    "* All categories when tested against its own data gives highest accuracy.\n",
    "* Fashion data gives less accuracy when tested against Gym data, but vice versa is not true.\n",
    "* Gym data and Hair Salon data gives equivalent accuracy scores when tested against their respective opposite categories.\n",
    "\n",
    "<b>Confusion Matrix and Classification Report</b>\n",
    "* In confusion matrix, True Positives and True negatives (bottom row of the matrix) are higher as we are getting higher accuracy score values. \n",
    "* In most cases, the precision and recall scores are good in terms of 'positive' reviews, i.e class 1; which indicates that there are more positive reviews than negative. Surprisingly, these are maintained even when we test the model with a different category data."
   ]
  },
  {
   "cell_type": "markdown",
   "metadata": {},
   "source": [
    "### References:\n",
    "\n",
    "1. https://realpython.com/beautiful-soup-web-scraper-python/#decipher-the-information-in-urls"
   ]
  },
  {
   "cell_type": "code",
   "execution_count": null,
   "metadata": {},
   "outputs": [],
   "source": []
  }
 ],
 "metadata": {
  "kernelspec": {
   "display_name": "Python 3",
   "language": "python",
   "name": "python3"
  },
  "language_info": {
   "codemirror_mode": {
    "name": "ipython",
    "version": 3
   },
   "file_extension": ".py",
   "mimetype": "text/x-python",
   "name": "python",
   "nbconvert_exporter": "python",
   "pygments_lexer": "ipython3",
   "version": "3.7.3"
  }
 },
 "nbformat": 4,
 "nbformat_minor": 2
}
